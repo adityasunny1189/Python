{
 "cells": [
  {
   "cell_type": "code",
   "execution_count": 12,
   "metadata": {
    "scrolled": true
   },
   "outputs": [
    {
     "name": "stdout",
     "output_type": "stream",
     "text": [
      "19 -2 -4 -8 -100 98\n",
      "19\n",
      "-2\n",
      "-4\n",
      "-8\n"
     ]
    }
   ],
   "source": [
    "l = [int(number) for number in input().split()]\n",
    "sum_of_ele = 0\n",
    "for i in range(len(l)):\n",
    "    sum_of_ele += l[i]\n",
    "    if sum_of_ele >= 0:\n",
    "        print(l[i])\n",
    "    else:\n",
    "        break"
   ]
  },
  {
   "cell_type": "markdown",
   "metadata": {},
   "source": [
    "### Check Prime"
   ]
  },
  {
   "cell_type": "code",
   "execution_count": 3,
   "metadata": {},
   "outputs": [
    {
     "name": "stdout",
     "output_type": "stream",
     "text": [
      "78\n",
      "Not Prime\n"
     ]
    }
   ],
   "source": [
    "# check for Prime\n",
    "def check_prime(n):\n",
    "    try:\n",
    "        for i in range(n):\n",
    "            if i + 2 < n:\n",
    "                if n % (i + 2) == 0:\n",
    "                    print(\"Not Prime\")\n",
    "                    return\n",
    "            else:\n",
    "                break\n",
    "        print(\"Prime\")\n",
    "    except:\n",
    "        print(\"check the input\")\n",
    "        \n",
    "num = int(input())\n",
    "check_prime(num)"
   ]
  },
  {
   "cell_type": "markdown",
   "metadata": {},
   "source": [
    "### Prime in a range"
   ]
  },
  {
   "cell_type": "code",
   "execution_count": 10,
   "metadata": {},
   "outputs": [
    {
     "name": "stdout",
     "output_type": "stream",
     "text": [
      "1\n",
      "1 10\n",
      "2 3 5 7 "
     ]
    }
   ],
   "source": [
    "# Prime in a range\n",
    "# check for Prime\n",
    "def check_prime(n):\n",
    "    if n == 1:\n",
    "        return\n",
    "    try:\n",
    "        for i in range(n):\n",
    "            if i + 2 < n:\n",
    "                if n % (i + 2) == 0:\n",
    "                    return\n",
    "            else:\n",
    "                break\n",
    "        print(n, end=\" \")\n",
    "    except:\n",
    "        print(\"check the input\")\n",
    "        \n",
    "test_case = int(input())\n",
    "for i in range(test_case):\n",
    "    l = [int(numbers) for numbers in input().split()]\n",
    "    start = l[0]\n",
    "    end = l[1]\n",
    "    for j in range(start, end + 1):\n",
    "        check_prime(j)"
   ]
  },
  {
   "cell_type": "markdown",
   "metadata": {},
   "source": [
    "### Star Printing Pattern"
   ]
  },
  {
   "cell_type": "code",
   "execution_count": 11,
   "metadata": {},
   "outputs": [
    {
     "name": "stdout",
     "output_type": "stream",
     "text": [
      "1 2 3 4 5 \n",
      "1 2 3 4 * \n",
      "1 2 3 * * * \n",
      "1 2 * * * * * \n",
      "1 * * * * * * * \n"
     ]
    }
   ],
   "source": [
    "for i in range(5):\n",
    "    for j in range(5 - i):\n",
    "        print(j+1,end=\" \")\n",
    "    for k in range(2*i - 1):\n",
    "        print(\"*\",end=\" \")\n",
    "    print()"
   ]
  },
  {
   "cell_type": "code",
   "execution_count": 39,
   "metadata": {},
   "outputs": [
    {
     "name": "stdout",
     "output_type": "stream",
     "text": [
      "7\n",
      "1 * * * * * * \n",
      "1 2 * * * * * \n",
      "1 2 3 * * * * \n",
      "1 2 3 4 * * * \n",
      "1 2 3 4 5 * * \n",
      "1 2 3 4 5 6 * \n",
      "1 2 3 4 5 6 7 \n"
     ]
    }
   ],
   "source": [
    "n = int(input())\n",
    "for i in range(n):\n",
    "    for j in range(i + 1):\n",
    "        print(j + 1, end=\" \")\n",
    "    for k in range(n - i - 1):\n",
    "        print(\"*\",end=\" \")\n",
    "    print()"
   ]
  },
  {
   "cell_type": "markdown",
   "metadata": {},
   "source": [
    "### Given an array S of size N , check if it is possible to split sequence into two sequences -\n",
    "s1 to si and si+1 to sN such that first sequence is strictly decreasing and second is strictly increasing. Print true/false as output."
   ]
  },
  {
   "cell_type": "code",
   "execution_count": 14,
   "metadata": {},
   "outputs": [
    {
     "name": "stdout",
     "output_type": "stream",
     "text": [
      "False\n"
     ]
    }
   ],
   "source": [
    "def check_sequence(l):\n",
    "    validity = False\n",
    "    for i in range(len(l)):\n",
    "        if i == 0:\n",
    "           pass \n",
    "    return validity\n",
    "        \n",
    "l1 = [5, 1, 2, 3, 4]\n",
    "print(check_sequence(l1))"
   ]
  },
  {
   "cell_type": "code",
   "execution_count": 20,
   "metadata": {},
   "outputs": [
    {
     "data": {
      "text/plain": [
       "4.242640687119285"
      ]
     },
     "execution_count": 20,
     "metadata": {},
     "output_type": "execute_result"
    }
   ],
   "source": [
    "import math\n",
    "math.sqrt(18)"
   ]
  },
  {
   "cell_type": "code",
   "execution_count": 21,
   "metadata": {},
   "outputs": [
    {
     "data": {
      "text/plain": [
       "4.123105625617661"
      ]
     },
     "execution_count": 21,
     "metadata": {},
     "output_type": "execute_result"
    }
   ],
   "source": [
    "math.sqrt(17)"
   ]
  },
  {
   "cell_type": "code",
   "execution_count": 23,
   "metadata": {},
   "outputs": [
    {
     "data": {
      "text/plain": [
       "5"
      ]
     },
     "execution_count": 23,
     "metadata": {},
     "output_type": "execute_result"
    }
   ],
   "source": [
    "math.ceil(math.sqrt(17))"
   ]
  },
  {
   "cell_type": "markdown",
   "metadata": {},
   "source": [
    "### Pythagorean numbers"
   ]
  },
  {
   "cell_type": "code",
   "execution_count": 37,
   "metadata": {},
   "outputs": [
    {
     "name": "stdout",
     "output_type": "stream",
     "text": [
      "68\n",
      "(2,8) "
     ]
    }
   ],
   "source": [
    "n = int(input())\n",
    "a = 0\n",
    "b = math.ceil(math.sqrt(n))\n",
    "while a <= b:\n",
    "    if a*a + b*b == n:\n",
    "        print(\"(%d,%d)\"%(a, b), end= \" \")\n",
    "        a += 1\n",
    "        b -= 1\n",
    "    elif a*a + b*b > n:\n",
    "        b -= 1\n",
    "    else:\n",
    "        a += 1"
   ]
  },
  {
   "cell_type": "code",
   "execution_count": 1,
   "metadata": {},
   "outputs": [
    {
     "name": "stdout",
     "output_type": "stream",
     "text": [
      "[1, 2, 3, 4]\n"
     ]
    }
   ],
   "source": [
    "a = [1,2,3,4]\n",
    "print(a)"
   ]
  },
  {
   "cell_type": "code",
   "execution_count": 3,
   "metadata": {},
   "outputs": [
    {
     "data": {
      "text/plain": [
       "[1, 2, 3, 4, 1, 2, 3, 4]"
      ]
     },
     "execution_count": 3,
     "metadata": {},
     "output_type": "execute_result"
    }
   ],
   "source": [
    "a*2"
   ]
  },
  {
   "cell_type": "code",
   "execution_count": 6,
   "metadata": {},
   "outputs": [
    {
     "data": {
      "text/plain": [
       "'CODING blocks CODING blocks coding blocks coding blocks'"
      ]
     },
     "execution_count": 6,
     "metadata": {},
     "output_type": "execute_result"
    }
   ],
   "source": [
    "a='coding blocks coding blocks coding blocks coding blocks'  \n",
    "a.replace('coding','CODING',2)"
   ]
  },
  {
   "cell_type": "code",
   "execution_count": 7,
   "metadata": {},
   "outputs": [
    {
     "name": "stdout",
     "output_type": "stream",
     "text": [
      "study \n"
     ]
    }
   ],
   "source": [
    "string=' I study Python '\n",
    "print(string[3:9])"
   ]
  },
  {
   "cell_type": "code",
   "execution_count": 8,
   "metadata": {},
   "outputs": [
    {
     "name": "stdout",
     "output_type": "stream",
     "text": [
      "study \n"
     ]
    }
   ],
   "source": [
    "string=' I study Python '\n",
    "print(string[3:9])"
   ]
  },
  {
   "cell_type": "code",
   "execution_count": 9,
   "metadata": {},
   "outputs": [
    {
     "name": "stdout",
     "output_type": "stream",
     "text": [
      "skcolB gnidoC ta nohtyP yduts I\n"
     ]
    }
   ],
   "source": [
    "string='I study Python at Coding Blocks'\n",
    "print(string[::-1])"
   ]
  },
  {
   "cell_type": "markdown",
   "metadata": {},
   "source": [
    "### Pattern\n",
    "    -1\n",
    "    -11\n",
    "    -202\n",
    "    -3003\n",
    "    -40004"
   ]
  },
  {
   "cell_type": "code",
   "execution_count": 24,
   "metadata": {},
   "outputs": [
    {
     "name": "stdout",
     "output_type": "stream",
     "text": [
      "5\n",
      "1\n",
      "11\n",
      "202\n",
      "3003\n",
      "40004\n"
     ]
    }
   ],
   "source": [
    "n = int(input())\n",
    "for i in range(n):\n",
    "    for j in range(i+1):\n",
    "        if i == 0:\n",
    "            print(1,end = \"\")\n",
    "        elif i == j or j == 0:\n",
    "            print(i, end = \"\")\n",
    "        else:\n",
    "            print(0,end = \"\")\n",
    "    print()"
   ]
  },
  {
   "cell_type": "markdown",
   "metadata": {},
   "source": [
    "### pascals triangle"
   ]
  },
  {
   "cell_type": "code",
   "execution_count": 35,
   "metadata": {},
   "outputs": [
    {
     "name": "stdout",
     "output_type": "stream",
     "text": [
      "6\n",
      "      1\n",
      "     1 1\n",
      "    1 2 1\n",
      "   1 3 3 1\n",
      "  1 4 4 4 1\n",
      " 1 5 5 5 5 1\n"
     ]
    }
   ],
   "source": [
    "# Todo (not complete)\n",
    "n = int(input())\n",
    "for i in range(n):\n",
    "    for k in range(n-i):\n",
    "        print(\" \",end = \"\")\n",
    "    for j in range(2*i+1):\n",
    "        if i % 2 == 0 and (i + j) % 2 != 0:\n",
    "            print(\" \",end = \"\")\n",
    "        elif i % 2 != 0 and (i + j) % 2 == 0:\n",
    "            print(\" \",end = \"\")\n",
    "        elif j == 2*i or j == 0:\n",
    "            print(1,end = \"\")\n",
    "        else:\n",
    "            print(i,end =\"\")\n",
    "    print()\n",
    "        "
   ]
  },
  {
   "cell_type": "markdown",
   "metadata": {},
   "source": [
    "## Binary To Decimal"
   ]
  },
  {
   "cell_type": "code",
   "execution_count": 50,
   "metadata": {},
   "outputs": [
    {
     "data": {
      "text/plain": [
       "0"
      ]
     },
     "execution_count": 50,
     "metadata": {},
     "output_type": "execute_result"
    }
   ],
   "source": [
    "int(1/10)"
   ]
  },
  {
   "cell_type": "code",
   "execution_count": 55,
   "metadata": {},
   "outputs": [
    {
     "name": "stdout",
     "output_type": "stream",
     "text": [
      "111111\n",
      "63\n"
     ]
    }
   ],
   "source": [
    "n = int(input())\n",
    "dec = 0\n",
    "i = 0\n",
    "while n > 0:\n",
    "    rem = n % 10\n",
    "    dec += pow(2, i) * rem\n",
    "    n = int(n / 10)\n",
    "    i += 1\n",
    "print(dec)"
   ]
  },
  {
   "cell_type": "code",
   "execution_count": null,
   "metadata": {},
   "outputs": [],
   "source": []
  }
 ],
 "metadata": {
  "kernelspec": {
   "display_name": "Python 3",
   "language": "python",
   "name": "python3"
  },
  "language_info": {
   "codemirror_mode": {
    "name": "ipython",
    "version": 3
   },
   "file_extension": ".py",
   "mimetype": "text/x-python",
   "name": "python",
   "nbconvert_exporter": "python",
   "pygments_lexer": "ipython3",
   "version": "3.6.9"
  }
 },
 "nbformat": 4,
 "nbformat_minor": 2
}
