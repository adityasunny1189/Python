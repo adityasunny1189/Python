{
 "cells": [
  {
   "cell_type": "markdown",
   "metadata": {},
   "source": [
    "### Lists in Python"
   ]
  },
  {
   "cell_type": "markdown",
   "metadata": {},
   "source": [
    "-they are just like array or say hetrogeneous array means they can contain elements of diffrent type"
   ]
  },
  {
   "cell_type": "code",
   "execution_count": 1,
   "metadata": {},
   "outputs": [
    {
     "name": "stdout",
     "output_type": "stream",
     "text": [
      "[1, 2, 3, 1.9, 'hello', (3+5j)]\n",
      "<class 'list'>\n"
     ]
    }
   ],
   "source": [
    "l1 = [1, 2, 3, 1.9, \"hello\", 3 + 5j]\n",
    "print(l1)\n",
    "print(type(l1))"
   ]
  },
  {
   "cell_type": "code",
   "execution_count": 2,
   "metadata": {},
   "outputs": [
    {
     "name": "stdout",
     "output_type": "stream",
     "text": [
      "<class 'complex'>\n"
     ]
    }
   ],
   "source": [
    "print(type(l1[5]))"
   ]
  },
  {
   "cell_type": "markdown",
   "metadata": {},
   "source": [
    "-We Can use index wise"
   ]
  },
  {
   "cell_type": "code",
   "execution_count": 3,
   "metadata": {},
   "outputs": [
    {
     "name": "stdout",
     "output_type": "stream",
     "text": [
      "[1, 3, 5] <class 'list'>\n"
     ]
    }
   ],
   "source": [
    "l2 = list([1, 3, 5])\n",
    "print(l2, type(l2))"
   ]
  },
  {
   "cell_type": "code",
   "execution_count": 4,
   "metadata": {},
   "outputs": [
    {
     "name": "stdout",
     "output_type": "stream",
     "text": [
      "[2, 4, 6]\n",
      "[2, 4, 6, 1, 3, 5]\n"
     ]
    }
   ],
   "source": [
    "l3 = [2, 4, 6]\n",
    "print(l3)\n",
    "l3.extend(l2)\n",
    "print(l3)"
   ]
  },
  {
   "cell_type": "code",
   "execution_count": 5,
   "metadata": {},
   "outputs": [
    {
     "name": "stdout",
     "output_type": "stream",
     "text": [
      "[2, 4, 6, 1, 3, 5, 1, 3, 5]\n"
     ]
    }
   ],
   "source": [
    "l4 = l3 + l2\n",
    "print(l4)"
   ]
  },
  {
   "cell_type": "markdown",
   "metadata": {},
   "source": [
    "### Lists using for loop"
   ]
  },
  {
   "cell_type": "code",
   "execution_count": 6,
   "metadata": {},
   "outputs": [
    {
     "name": "stdout",
     "output_type": "stream",
     "text": [
      "[1, 4, 9, 16, 25]\n"
     ]
    }
   ],
   "source": [
    "l5 = [i * i for i in range(1, 6)]\n",
    "print(l5)"
   ]
  },
  {
   "cell_type": "markdown",
   "metadata": {},
   "source": [
    "### First try of Seive of Erasthone"
   ]
  },
  {
   "cell_type": "code",
   "execution_count": 11,
   "metadata": {},
   "outputs": [
    {
     "name": "stdout",
     "output_type": "stream",
     "text": [
      "2 "
     ]
    }
   ],
   "source": [
    "# Creating a list of numbers\n",
    "seive_list = [i for i in range(2, 20)]\n",
    "\n",
    "# Making Non-Prime numbers as 0\n",
    "for i in range(len(seive_list)):\n",
    "    for j in range(i):\n",
    "        j = j * j + 1\n",
    "        if seive_list[i] % j == 0 and seive_list[i] != 0:\n",
    "            seive_list[i] = 0\n",
    "            break\n",
    "\n",
    "# Printing the list of prime numbers\n",
    "for i in range(len(seive_list)):\n",
    "    if seive_list[i] != 0:\n",
    "        print(seive_list[i], end=\" \")"
   ]
  },
  {
   "cell_type": "code",
   "execution_count": null,
   "metadata": {},
   "outputs": [],
   "source": []
  }
 ],
 "metadata": {
  "kernelspec": {
   "display_name": "Python 3",
   "language": "python",
   "name": "python3"
  },
  "language_info": {
   "codemirror_mode": {
    "name": "ipython",
    "version": 3
   },
   "file_extension": ".py",
   "mimetype": "text/x-python",
   "name": "python",
   "nbconvert_exporter": "python",
   "pygments_lexer": "ipython3",
   "version": "3.6.9"
  }
 },
 "nbformat": 4,
 "nbformat_minor": 2
}
