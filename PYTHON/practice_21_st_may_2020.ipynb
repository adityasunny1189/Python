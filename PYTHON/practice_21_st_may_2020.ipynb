{
 "cells": [
  {
   "cell_type": "code",
   "execution_count": 5,
   "metadata": {},
   "outputs": [
    {
     "name": "stdout",
     "output_type": "stream",
     "text": [
      "New object created of student class\n",
      "New object created of Teacher class\n",
      "Object Created of Student class is deleted\n",
      "Object Created of Teacher class is deleted\n"
     ]
    }
   ],
   "source": [
    "class Student:\n",
    "    def __init__(self):\n",
    "        print(\"New object created of student class\")\n",
    "    \n",
    "    def __del__(self):\n",
    "        print(\"Object Created of Student class is deleted\")\n",
    "    \n",
    "class Teacher:\n",
    "    def __init__(self):\n",
    "        print(\"New object created of Teacher class\")\n",
    "    \n",
    "    def __del__(self):\n",
    "        print(\"Object Created of Teacher class is deleted\")\n",
    "        \n",
    "s1 = Student()\n",
    "t1 = Teacher()\n",
    "del s1\n",
    "del t1"
   ]
  },
  {
   "cell_type": "code",
   "execution_count": null,
   "metadata": {},
   "outputs": [],
   "source": []
  },
  {
   "cell_type": "code",
   "execution_count": 29,
   "metadata": {},
   "outputs": [],
   "source": [
    "login_credentials = {\n",
    "    \"Aditya\" : \"Adisunny12345\",\n",
    "    \"Sunny\": \"12345\"\n",
    "}"
   ]
  },
  {
   "cell_type": "code",
   "execution_count": 34,
   "metadata": {},
   "outputs": [],
   "source": [
    "def login_required(fun):\n",
    "    def wrapper(*args, **kwargs):\n",
    "        print(\"Enter your login name\")\n",
    "        name = input()\n",
    "        print(\"Enter your Password\")\n",
    "        paswd = input()\n",
    "        if name in login_credentials and paswd == login_credentials[name]:\n",
    "            fun(*args, **kwargs)\n",
    "        else:\n",
    "            print(\"User not found\")\n",
    "    return wrapper"
   ]
  },
  {
   "cell_type": "code",
   "execution_count": 33,
   "metadata": {},
   "outputs": [
    {
     "name": "stdout",
     "output_type": "stream",
     "text": [
      "Enter no 1\n",
      "12\n",
      "Enter no 2\n",
      "12\n",
      "Enter your login name\n",
      "Adfew\n",
      "Enter your Password\n",
      "grreg\n",
      "Fuck You Cheater\n"
     ]
    }
   ],
   "source": [
    "@login_required\n",
    "def add(a, b):\n",
    "    ans = a + b\n",
    "    print(\"Ans is:%d\"%(ans))\n",
    "    \n",
    "print(\"Enter no 1\")\n",
    "no1 = int(input())\n",
    "print(\"Enter no 2\")\n",
    "no2 = int(input())\n",
    "add(no1, no2)"
   ]
  },
  {
   "cell_type": "code",
   "execution_count": null,
   "metadata": {},
   "outputs": [],
   "source": []
  }
 ],
 "metadata": {
  "kernelspec": {
   "display_name": "Python 3",
   "language": "python",
   "name": "python3"
  },
  "language_info": {
   "codemirror_mode": {
    "name": "ipython",
    "version": 3
   },
   "file_extension": ".py",
   "mimetype": "text/x-python",
   "name": "python",
   "nbconvert_exporter": "python",
   "pygments_lexer": "ipython3",
   "version": "3.6.9"
  }
 },
 "nbformat": 4,
 "nbformat_minor": 2
}
