{
 "cells": [
  {
   "cell_type": "markdown",
   "metadata": {},
   "source": [
    "### OOPS in Python"
   ]
  },
  {
   "cell_type": "code",
   "execution_count": 1,
   "metadata": {},
   "outputs": [
    {
     "data": {
      "text/plain": [
       "__main__.Person"
      ]
     },
     "execution_count": 1,
     "metadata": {},
     "output_type": "execute_result"
    }
   ],
   "source": [
    "class Person:\n",
    "    pass\n",
    "P = Person()\n",
    "type(P)"
   ]
  },
  {
   "cell_type": "code",
   "execution_count": 2,
   "metadata": {},
   "outputs": [
    {
     "name": "stdout",
     "output_type": "stream",
     "text": [
      "Hello World\n"
     ]
    },
    {
     "data": {
      "text/plain": [
       "<__main__.ostream at 0x7f5bb81b59e8>"
      ]
     },
     "execution_count": 2,
     "metadata": {},
     "output_type": "execute_result"
    }
   ],
   "source": [
    "class ostream:\n",
    "    def __lshift__(self, other):\n",
    "        print(other)\n",
    "        return self\n",
    "cout = ostream()\n",
    "cout << \"Hello World\""
   ]
  },
  {
   "cell_type": "code",
   "execution_count": 16,
   "metadata": {},
   "outputs": [
    {
     "name": "stdout",
     "output_type": "stream",
     "text": [
      "Aditya\n"
     ]
    }
   ],
   "source": [
    "class Person:\n",
    "    name = \"Aditya\"\n",
    "    def say_hi(self):\n",
    "        print(self.name)\n",
    "P = Person()\n",
    "P.say_hi()"
   ]
  },
  {
   "cell_type": "markdown",
   "metadata": {},
   "source": [
    "### Dunders in Python\n",
    "    __init__(self)\n",
    "    __add__(self,other)\n",
    "    __eq__(self,other)\n",
    "    __sub__(self,other)"
   ]
  },
  {
   "cell_type": "code",
   "execution_count": 1,
   "metadata": {},
   "outputs": [
    {
     "name": "stdout",
     "output_type": "stream",
     "text": [
      "Color:  black\n",
      "Max Speed:  200\n",
      "Num of Gears:  8\n",
      "Nature Friendly:  True\n"
     ]
    }
   ],
   "source": [
    "class vehicle:\n",
    "\n",
    "\tdef __init__(self, color, maxSpeed):\n",
    "\n",
    "\t\tself.color = color\n",
    "\t\tself.maxSpeed = maxSpeed\n",
    "\n",
    "class Car(vehicle):\n",
    "\n",
    "\tdef __init__(self, color, maxSpeed, numGears, natureFriendly):\n",
    "\n",
    "\t\tsuper().__init__(color, maxSpeed)\n",
    "\n",
    "\t\tself.numGears = numGears\n",
    "\t\tself.natureFriendly = natureFriendly\n",
    "\n",
    "\tdef printCarDetails(self):\n",
    "\n",
    "\t\tprint(\"Color: \", self.color)\n",
    "\t\tprint(\"Max Speed: \", self.maxSpeed)\n",
    "\t\tprint(\"Num of Gears: \", self.numGears)\n",
    "\t\tprint(\"Nature Friendly: \", self.natureFriendly)\n",
    "\n",
    "c1 = Car(\"black\", 200, 8, True)\n",
    "c1.printCarDetails()"
   ]
  },
  {
   "cell_type": "code",
   "execution_count": null,
   "metadata": {},
   "outputs": [],
   "source": []
  }
 ],
 "metadata": {
  "kernelspec": {
   "display_name": "Python 3",
   "language": "python",
   "name": "python3"
  },
  "language_info": {
   "codemirror_mode": {
    "name": "ipython",
    "version": 3
   },
   "file_extension": ".py",
   "mimetype": "text/x-python",
   "name": "python",
   "nbconvert_exporter": "python",
   "pygments_lexer": "ipython3",
   "version": "3.6.9"
  }
 },
 "nbformat": 4,
 "nbformat_minor": 2
}
