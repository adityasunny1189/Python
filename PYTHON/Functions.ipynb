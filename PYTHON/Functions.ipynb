{
 "cells": [
  {
   "cell_type": "code",
   "execution_count": 1,
   "metadata": {},
   "outputs": [
    {
     "name": "stdout",
     "output_type": "stream",
     "text": [
      "10\n"
     ]
    }
   ],
   "source": [
    "x = 10\n",
    "def show():\n",
    "    print(x)\n",
    "show()"
   ]
  },
  {
   "cell_type": "code",
   "execution_count": 2,
   "metadata": {},
   "outputs": [
    {
     "name": "stdout",
     "output_type": "stream",
     "text": [
      "5\n",
      "10\n"
     ]
    }
   ],
   "source": [
    "x = 10\n",
    "def show():\n",
    "    x = 5\n",
    "    print(x)\n",
    "show()\n",
    "print(x)"
   ]
  },
  {
   "cell_type": "code",
   "execution_count": 3,
   "metadata": {},
   "outputs": [
    {
     "name": "stdout",
     "output_type": "stream",
     "text": [
      "15\n",
      "\n"
     ]
    }
   ],
   "source": [
    "x = 10\n",
    "def show():\n",
    "    global x\n",
    "    x += 5\n",
    "    print(x)\n",
    "show()\n",
    "print()"
   ]
  },
  {
   "cell_type": "code",
   "execution_count": 5,
   "metadata": {},
   "outputs": [
    {
     "name": "stdout",
     "output_type": "stream",
     "text": [
      "13\n",
      "13\n"
     ]
    }
   ],
   "source": [
    "def outer():\n",
    "    x = 10\n",
    "    def inner():\n",
    "        nonlocal x\n",
    "        x += 3\n",
    "        print(x)\n",
    "    inner()\n",
    "    print(x)\n",
    "outer()"
   ]
  },
  {
   "cell_type": "code",
   "execution_count": 6,
   "metadata": {},
   "outputs": [
    {
     "name": "stdout",
     "output_type": "stream",
     "text": [
      "1\n",
      "2\n",
      "adi\n"
     ]
    }
   ],
   "source": [
    "def show(a, b, c):\n",
    "    print(a)\n",
    "    print(b)\n",
    "    print(c)\n",
    "show(1, 2, \"adi\")"
   ]
  },
  {
   "cell_type": "code",
   "execution_count": 7,
   "metadata": {},
   "outputs": [
    {
     "name": "stdout",
     "output_type": "stream",
     "text": [
      "(1, 2, 3, 4)\n"
     ]
    }
   ],
   "source": [
    "def show(*args):\n",
    "    print(args)\n",
    "show(1, 2, 3, 4)"
   ]
  },
  {
   "cell_type": "code",
   "execution_count": 8,
   "metadata": {},
   "outputs": [
    {
     "name": "stdout",
     "output_type": "stream",
     "text": [
      "1\n",
      "('aditya', 'pathak')\n",
      "120\n",
      "{'name': 'sunny'}\n"
     ]
    }
   ],
   "source": [
    "def show(a, b, c, *args, d = 10, e = 20, **kwargs):\n",
    "    print(a)\n",
    "    print(args)\n",
    "    print(d)\n",
    "    print(kwargs)\n",
    "show(1, 2, 3, \"aditya\", \"pathak\", d = 120, name = \"sunny\")"
   ]
  },
  {
   "cell_type": "code",
   "execution_count": 9,
   "metadata": {},
   "outputs": [
    {
     "name": "stdout",
     "output_type": "stream",
     "text": [
      "1\n",
      "(4, 5, 7, 9)\n",
      "19\n",
      "{'f': 11, 'g': 67, 'h': 45}\n"
     ]
    }
   ],
   "source": [
    "def printVal(a, b, c, *args, d = 10, e = 30, **kwargs):\n",
    "    print(a)\n",
    "    print(args)\n",
    "    print(d)\n",
    "    print(kwargs)\n",
    "printVal(1, 2, 3, 4, 5, 7, 9, d=19,e=18,f=11,g=67,h=45)"
   ]
  },
  {
   "cell_type": "code",
   "execution_count": 12,
   "metadata": {},
   "outputs": [
    {
     "name": "stdout",
     "output_type": "stream",
     "text": [
      "6\n"
     ]
    }
   ],
   "source": [
    "x = lambda a, b: a+b\n",
    "print(x(2,4))"
   ]
  },
  {
   "cell_type": "code",
   "execution_count": 15,
   "metadata": {},
   "outputs": [
    {
     "name": "stdout",
     "output_type": "stream",
     "text": [
      "1024\n"
     ]
    }
   ],
   "source": [
    "power = lambda a, b: a**b\n",
    "print(power(2,10))"
   ]
  },
  {
   "cell_type": "code",
   "execution_count": null,
   "metadata": {},
   "outputs": [],
   "source": []
  },
  {
   "cell_type": "markdown",
   "metadata": {},
   "source": [
    "### Decorators In Python"
   ]
  },
  {
   "cell_type": "code",
   "execution_count": 18,
   "metadata": {},
   "outputs": [],
   "source": [
    "users = {\n",
    "    \"aditya\": \"Adi@12345\",\n",
    "    \"sunny\": \"sunny12345\",\n",
    "    \"amit\": \"anurag1234\"\n",
    "}"
   ]
  },
  {
   "cell_type": "code",
   "execution_count": 19,
   "metadata": {},
   "outputs": [
    {
     "name": "stdout",
     "output_type": "stream",
     "text": [
      "Welcome\n"
     ]
    }
   ],
   "source": [
    "def login(username, password):\n",
    "    if username in users and users[username] == password:\n",
    "        print(\"Welcome\")\n",
    "    else:\n",
    "        print(\"Not Authenticated\")\n",
    "login(\"aditya\", \"Adi@12345\")"
   ]
  },
  {
   "cell_type": "code",
   "execution_count": 20,
   "metadata": {},
   "outputs": [
    {
     "name": "stdout",
     "output_type": "stream",
     "text": [
      "Not Authenticated\n"
     ]
    }
   ],
   "source": [
    "login(\"Aditya\", \"Adi@12345\")"
   ]
  },
  {
   "cell_type": "code",
   "execution_count": 25,
   "metadata": {},
   "outputs": [
    {
     "name": "stdout",
     "output_type": "stream",
     "text": [
      "16\n"
     ]
    }
   ],
   "source": [
    "def add(username, password, a, b):\n",
    "    if username in users and users[username] == password:\n",
    "        print(a+b)\n",
    "    else:\n",
    "        print(\"Not Authenticated\")\n",
    "add(\"aditya\", \"Adi@12345\", 7, 9)"
   ]
  },
  {
   "cell_type": "code",
   "execution_count": 26,
   "metadata": {},
   "outputs": [
    {
     "name": "stdout",
     "output_type": "stream",
     "text": [
      "Not Authenticated\n"
     ]
    }
   ],
   "source": [
    "add(\"aditya\", \"Adi@1245\", 7, 9)"
   ]
  },
  {
   "cell_type": "code",
   "execution_count": null,
   "metadata": {},
   "outputs": [],
   "source": []
  },
  {
   "cell_type": "markdown",
   "metadata": {},
   "source": [
    "### So to remove this code redundancy we do"
   ]
  },
  {
   "cell_type": "code",
   "execution_count": 47,
   "metadata": {},
   "outputs": [],
   "source": [
    "def login_required(func):\n",
    "    def wrapper_function(username, password, *args, **kwargs):\n",
    "        if username in users and users[username] == password:\n",
    "            func(*args, **kwargs)\n",
    "        else:\n",
    "            print(\"Not Authenticated\")\n",
    "    return wrapper_function"
   ]
  },
  {
   "cell_type": "code",
   "execution_count": 46,
   "metadata": {},
   "outputs": [
    {
     "name": "stdout",
     "output_type": "stream",
     "text": [
      "50\n"
     ]
    }
   ],
   "source": [
    "def add(a, b):\n",
    "    print(a + b)\n",
    "# protected_add = login_required(add)\n",
    "# protected_add(\"aditya\", \"Adi@12345\", 12, 34)\n",
    "add = login_required(add)\n",
    "add(\"aditya\", \"Adi@12345\", 16, 34)"
   ]
  },
  {
   "cell_type": "code",
   "execution_count": 39,
   "metadata": {},
   "outputs": [
    {
     "name": "stdout",
     "output_type": "stream",
     "text": [
      "2\n"
     ]
    }
   ],
   "source": [
    "def sub(a, b):\n",
    "    print(a-b)\n",
    "sub = login_required(sub)\n",
    "sub(\"aditya\", \"Adi@12345\",10, 8)"
   ]
  },
  {
   "cell_type": "markdown",
   "metadata": {},
   "source": [
    "### Or we could have done using decorator"
   ]
  },
  {
   "cell_type": "code",
   "execution_count": 43,
   "metadata": {},
   "outputs": [
    {
     "name": "stdout",
     "output_type": "stream",
     "text": [
      "18\n"
     ]
    }
   ],
   "source": [
    "@login_required\n",
    "def mul(a, b):\n",
    "    print(a*b)\n",
    "mul(\"aditya\", \"Adi@12345\", 2, 9)"
   ]
  },
  {
   "cell_type": "code",
   "execution_count": 50,
   "metadata": {},
   "outputs": [
    {
     "name": "stdout",
     "output_type": "stream",
     "text": [
      "Hello Aditya\n"
     ]
    }
   ],
   "source": [
    "@login_required\n",
    "def greet_hello(name):\n",
    "    print(\"Hello %s\"%(name))\n",
    "greet_hello(\"aditya\", \"Adi@12345\", \"Aditya\")"
   ]
  },
  {
   "cell_type": "code",
   "execution_count": 51,
   "metadata": {},
   "outputs": [
    {
     "name": "stdout",
     "output_type": "stream",
     "text": [
      "Not Authenticated\n"
     ]
    }
   ],
   "source": [
    "greet_hello(\"adiitya\", \"Adi@12345\", \"Aditya\")"
   ]
  },
  {
   "cell_type": "code",
   "execution_count": null,
   "metadata": {},
   "outputs": [],
   "source": []
  }
 ],
 "metadata": {
  "kernelspec": {
   "display_name": "Python 3",
   "language": "python",
   "name": "python3"
  },
  "language_info": {
   "codemirror_mode": {
    "name": "ipython",
    "version": 3
   },
   "file_extension": ".py",
   "mimetype": "text/x-python",
   "name": "python",
   "nbconvert_exporter": "python",
   "pygments_lexer": "ipython3",
   "version": "3.6.9"
  }
 },
 "nbformat": 4,
 "nbformat_minor": 2
}
