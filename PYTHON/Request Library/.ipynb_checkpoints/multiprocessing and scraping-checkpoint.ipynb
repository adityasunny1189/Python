{
 "cells": [
  {
   "cell_type": "code",
   "execution_count": 9,
   "metadata": {},
   "outputs": [
    {
     "name": "stdout",
     "output_type": "stream",
     "text": [
      "16854\n",
      "16855\n",
      "/images/branding/searchlogo/1x/googlelogo_desk_heirloom_color_150x55dp.gif\n",
      "/assets/pofo/logo-6d680decaadef58e4fbb586e147bc135.png\n",
      "Task Completed\n"
     ]
    }
   ],
   "source": [
    "import os\n",
    "import bs4\n",
    "import html5lib\n",
    "import requests\n",
    "import multiprocessing\n",
    "\n",
    "def scrapFunction(url):\n",
    "\tresponse = requests.get(url)\n",
    "\tsoup = bs4.BeautifulSoup(response.content)\n",
    "\tsource_element = soup.findAll('img')\n",
    "\tsource = source_element[0]['src']\n",
    "\tprint(source)\n",
    "\n",
    "def getPokeImg(url1):\n",
    "\tprint(os.getpid())\n",
    "\tscrapFunction(url1)\n",
    "\n",
    "def getInspImg(url2):\n",
    "\tprint(os.getpid())\n",
    "\tscrapFunction(url2)\n",
    "\n",
    "def main():\n",
    "\turl1 = \"https://passiton.com/inspirational-quotes?page=2\"\n",
    "\turl2 = \"https://www.google.com/search?q=pokemon&sxsrf=ALeKk02CZlcgP2GUKCzdnMqRnY9BodDGGA:1590736146294&source=lnms&tbm=isch&sa=X&ved=2ahUKEwiMl7n3wdjpAhVQ63MBHV91BjUQ_AUoAXoECBsQAw&biw=1920&bih=949\"\n",
    "\tp1 = multiprocessing.Process(target = getPokeImg, args = (url1,))\n",
    "\tp2 = multiprocessing.Process(target = getInspImg, args = (url2,))\n",
    "\tp1.start()\n",
    "\tp2.start()\n",
    "\tp1.join()\n",
    "\tp2.join()\n",
    "\tprint('Task Completed')\n",
    "\n",
    "if __name__ == '__main__':\n",
    "\tmain()"
   ]
  },
  {
   "cell_type": "code",
   "execution_count": null,
   "metadata": {},
   "outputs": [],
   "source": []
  }
 ],
 "metadata": {
  "kernelspec": {
   "display_name": "Python 3",
   "language": "python",
   "name": "python3"
  },
  "language_info": {
   "codemirror_mode": {
    "name": "ipython",
    "version": 3
   },
   "file_extension": ".py",
   "mimetype": "text/x-python",
   "name": "python",
   "nbconvert_exporter": "python",
   "pygments_lexer": "ipython3",
   "version": "3.6.9"
  }
 },
 "nbformat": 4,
 "nbformat_minor": 2
}
