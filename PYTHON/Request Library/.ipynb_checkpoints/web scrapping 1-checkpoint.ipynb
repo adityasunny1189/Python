{
 "cells": [
  {
   "cell_type": "code",
   "execution_count": 106,
   "metadata": {},
   "outputs": [],
   "source": [
    "import bs4\n",
    "import requests\n",
    "import html5lib\n",
    "url = \"https://passiton.com/inspirational-quotes?page=2\"\n",
    "response = requests.get(url)\n",
    "soup = bs4.BeautifulSoup(response.content)\n",
    "article_element = soup.findAll('img')"
   ]
  },
  {
   "cell_type": "code",
   "execution_count": 122,
   "metadata": {},
   "outputs": [
    {
     "data": {
      "text/plain": [
       "'https://assets.passiton.com/quotes/quote_artwork/8060/medium/20200414_tuesday_quote.jpg?1586626879'"
      ]
     },
     "execution_count": 122,
     "metadata": {},
     "output_type": "execute_result"
    }
   ],
   "source": [
    "article = article_element[2]\n",
    "article['src']\n",
    "# article_element[2]['src']"
   ]
  },
  {
   "cell_type": "code",
   "execution_count": 118,
   "metadata": {},
   "outputs": [],
   "source": [
    "with open('inspiration3.jpg', 'wb') as file:\n",
    "    img_url = article['src']\n",
    "    res = requests.get(img_url)\n",
    "    file.write(res.content)"
   ]
  },
  {
   "cell_type": "code",
   "execution_count": 130,
   "metadata": {},
   "outputs": [],
   "source": [
    "# for article in article_element:\n",
    "#     print(article['src'])"
   ]
  },
  {
   "cell_type": "code",
   "execution_count": 129,
   "metadata": {},
   "outputs": [],
   "source": [
    "# for i, article in enumerate(article_element):\n",
    "# #     with open('inspiration{}.jpg'.format(i), 'wb') as file:\n",
    "# #         img_url = article['src']\n",
    "# #         res = requests.get(img_url)\n",
    "# #         file.write(res.content)\n",
    "#     img_url = article['src']\n",
    "#     print(i,end = \" \")\n",
    "#     print(img_url)\n",
    "    \n",
    "for i in range(2, 34, 1):\n",
    "    article = article_element[i]\n",
    "    with open('inspiration{}.jpg'.format(i), 'wb') as file:\n",
    "        img_url = article['src']\n",
    "        res = requests.get(img_url)\n",
    "        file.write(res.content)"
   ]
  },
  {
   "cell_type": "code",
   "execution_count": 131,
   "metadata": {},
   "outputs": [],
   "source": [
    "url_pokemon = \"https://www.google.com/search?q=pokemon&sxsrf=ALeKk02CZlcgP2GUKCzdnMqRnY9BodDGGA:1590736146294&source=lnms&tbm=isch&sa=X&ved=2ahUKEwiMl7n3wdjpAhVQ63MBHV91BjUQ_AUoAXoECBsQAw&biw=1920&bih=949\""
   ]
  },
  {
   "cell_type": "code",
   "execution_count": 139,
   "metadata": {},
   "outputs": [],
   "source": [
    "response = requests.get(url_pokemon)\n",
    "soup = bs4.BeautifulSoup(response.content)\n",
    "article_element = soup.findAll('img')\n",
    "for i in range(3, 10, 1):\n",
    "    with open('pokemon{}.jpg'.format(i), 'wb') as pokemon:\n",
    "        poke_url = article_element[i].attrs['src']\n",
    "        poke_res = requests.get(poke_url)\n",
    "        pokemon.write(poke_res.content)"
   ]
  },
  {
   "cell_type": "code",
   "execution_count": 51,
   "metadata": {},
   "outputs": [],
   "source": []
  },
  {
   "cell_type": "code",
   "execution_count": 67,
   "metadata": {},
   "outputs": [],
   "source": []
  },
  {
   "cell_type": "code",
   "execution_count": 69,
   "metadata": {},
   "outputs": [],
   "source": []
  },
  {
   "cell_type": "code",
   "execution_count": 65,
   "metadata": {},
   "outputs": [],
   "source": []
  },
  {
   "cell_type": "code",
   "execution_count": null,
   "metadata": {},
   "outputs": [],
   "source": []
  },
  {
   "cell_type": "code",
   "execution_count": null,
   "metadata": {},
   "outputs": [],
   "source": []
  }
 ],
 "metadata": {
  "kernelspec": {
   "display_name": "Python 3",
   "language": "python",
   "name": "python3"
  },
  "language_info": {
   "codemirror_mode": {
    "name": "ipython",
    "version": 3
   },
   "file_extension": ".py",
   "mimetype": "text/x-python",
   "name": "python",
   "nbconvert_exporter": "python",
   "pygments_lexer": "ipython3",
   "version": "3.6.9"
  }
 },
 "nbformat": 4,
 "nbformat_minor": 2
}
