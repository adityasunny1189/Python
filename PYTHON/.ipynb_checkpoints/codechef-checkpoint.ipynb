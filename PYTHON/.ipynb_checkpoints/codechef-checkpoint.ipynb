{
 "cells": [
  {
   "cell_type": "code",
   "execution_count": 3,
   "metadata": {},
   "outputs": [
    {
     "name": "stdout",
     "output_type": "stream",
     "text": [
      "300\n",
      "120\n",
      "120.00\n"
     ]
    }
   ],
   "source": [
    "amount = int(input())\n",
    "balance = float(input())\n",
    "if amount % 5 == 0:\n",
    "    if amount <= int(balance):\n",
    "        print(\"%.2f\"%(balance - float(amount)))\n",
    "    else:\n",
    "        print(\"%.2f\" %(balance))\n",
    "else:\n",
    "    print(\"%.2f\" %(balance))"
   ]
  },
  {
   "cell_type": "code",
   "execution_count": null,
   "metadata": {},
   "outputs": [],
   "source": []
  }
 ],
 "metadata": {
  "kernelspec": {
   "display_name": "Python 3",
   "language": "python",
   "name": "python3"
  },
  "language_info": {
   "codemirror_mode": {
    "name": "ipython",
    "version": 3
   },
   "file_extension": ".py",
   "mimetype": "text/x-python",
   "name": "python",
   "nbconvert_exporter": "python",
   "pygments_lexer": "ipython3",
   "version": "3.6.9"
  }
 },
 "nbformat": 4,
 "nbformat_minor": 2
}
